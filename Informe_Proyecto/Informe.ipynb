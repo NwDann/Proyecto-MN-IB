{
 "cells": [
  {
   "cell_type": "code",
   "execution_count": null,
   "id": "1bd9ff46-b6a9-4ac2-b75e-3fa092c987e1",
   "metadata": {},
   "outputs": [],
   "source": [
    "---\n",
    "title: \"Informe Proyecto IB\"\n",
    "author: \"asd\"\n",
    "lang: es\n",
    "format: \n",
    "  pdf:\n",
    "    toc: true\n",
    "    toc-title: \"Tabla de Contenidos\"  \n",
    "execute:\n",
    "  echo: true\n",
    "  error: false\n",
    "  warning: false\n",
    "jupyter: python3\n",
    "---"
   ]
  },
  {
   "cell_type": "markdown",
   "id": "fc563a6b",
   "metadata": {},
   "source": [
    "1. Introducción"
   ]
  },
  {
   "cell_type": "code",
   "execution_count": null,
   "id": "76985e29-80c3-476c-adc0-7e9a4c56bb6f",
   "metadata": {},
   "outputs": [],
   "source": []
  },
  {
   "cell_type": "code",
   "execution_count": null,
   "id": "0d1e8767-27b5-44a5-a86d-a77bfe9b9587",
   "metadata": {},
   "outputs": [],
   "source": []
  },
  {
   "cell_type": "markdown",
   "id": "efa550b6",
   "metadata": {},
   "source": [
    "2. Desarrollo matemático"
   ]
  },
  {
   "cell_type": "markdown",
   "id": "da2a8c03",
   "metadata": {},
   "source": [
    "La función que permite resolver el problema planteado se da en base a la que se presenta a continuación:\n",
    "\n",
    "$f(x)=\\frac{(h\\times w)}{(x_2^2 - w ^2)^{0.5}}+\\frac{(h\\times w)}{(x_1^2 - w ^2)^{0.5}} - w$\n",
    "\n",
    "Donde:\n",
    "\n",
    "- $w$: La incognita a buscar, es decir, el tamaño del pasillo donde se encuentran las 2 escaleras.\n",
    "- $x_1$: La longitud de la primera escalera\n",
    "- $x_2$: La longitud de la segunda escalera\n",
    "- $h$: La altura desde el suelo hasta el punto de intersección entre las dos escaleras\n",
    "\n",
    "Para iniciar, se tiene presente la siguiente Figura, la cual representa visualmente en problema planteado, a su vez, declarando las incognitas necesarias para obtener la ecuación. Asi mismo sirve de guia para comprender el enunciado del problema.\n",
    "\n",
    "<p align=\"center\">\n",
    "  <img src=\"images/img1.png\" alt=\"Texto alternativo\" width=\"200\" height=\"265\">\n",
    "</p>\n",
    "\n",
    "A continuación, se establecen dos triangulos rectangulos, donde, la hipotenusa de cada uno es la longitud de cada escalera, esto permite trabajar de manera indivual con cada uno. Con lo cual es tiene lo siguiente: \n",
    "<p align=\"center\">\n",
    "  <img src=\"images/img2.png\" alt=\"Texto alternativo\" width=\"200\" height=\"265\">\n",
    "  <img src=\"images/img3_1.png\" alt=\"Texto alternativo\" width=\"200\" height=\"265\">\n",
    "</p>\n",
    "A partir de las anteriores figuras se puede comenzar a deducir la ecuación presentada al inicio.\n",
    "\n",
    "A destacar que dentro de cada uno de los triangulos, se presenta un triangulo semejante, esto dado que posee los 3 angulos iguales que el que los contiene, asi se deduce lo siguiente en base a funciones trigonométricas.\n",
    "\n",
    "Primero a destacar que: \n",
    "\n",
    "$w = l + l'$ (1)\n",
    "\n",
    "Definimos $\\theta_1$ como el angulo entre $w$ y $x_2$\n",
    "\n",
    "$\\tan{\\theta_1} = \\frac{h}{l}$\n",
    "\n",
    "$l = \\frac{h}{\\tan{\\theta_1}}$ (2)\n",
    "\n",
    "Definimos $\\theta_2$ como el angulo entre $w$ y $x_1$\n",
    "\n",
    "$\\tan{\\theta_2} = \\frac{h}{l'}$\n",
    "\n",
    "$l' = \\frac{h}{\\tan{\\theta_2}}$ (3)\n",
    "\n",
    "Mediante el teorema de Pitágoras se describe.\n",
    "\n",
    "$Z = \\sqrt{x_1^2-w^2}$ (4)\n",
    "\n",
    "$Y = \\sqrt{x_2^2-w^2}$ (5)\n",
    "\n",
    "$\\tan{\\theta_1} = \\frac{Y}{w}$ (6)\n",
    "\n",
    "$\\tan{\\theta_2} = \\frac{Z}{w}$ (7)\n",
    "\n",
    "Ahora, reemplazamos 4 en 7 y 5 en 6\n",
    "\n",
    "$\\tan{\\theta_1} = \\frac{\\sqrt{x_2^2-w^2}}{w}$ (6)\n",
    "\n",
    "$\\tan{\\theta_2} = \\frac{\\sqrt{x_1^2-w^2}}{w}$ (7)\n",
    "\n",
    "Luego, se reemplaza 6 en 2 y 7 en 3\n",
    "\n",
    "$l = \\frac{h}{\\frac{\\sqrt{x_2^2-w^2}}{w}}$\n",
    "\n",
    "$l = \\frac{h\\times w}{\\sqrt{x_2^2-w^2}}$ (8)\n",
    "\n",
    "$l' = \\frac{h}{\\frac{\\sqrt{x_1^2-w^2}}{w}}$\n",
    "\n",
    "$l' = \\frac{h\\times w}{\\sqrt{x_1^2-w^2}}$ (9)\n",
    "\n",
    "Finalmente se reemplaza 8 y 9 en 1\n",
    "\n",
    "$w = \\frac{h\\times w}{\\sqrt{x_2^2-w^2}} + \\frac{h\\times w}{\\sqrt{x_1^2-w^2}}$"
   ]
  },
  {
   "cell_type": "markdown",
   "id": "2d5b0164",
   "metadata": {},
   "source": [
    "3. Diagrama de flujo ó pseudocódigo"
   ]
  },
  {
   "cell_type": "code",
   "execution_count": null,
   "id": "5cd9198c-2c9a-446d-bee3-3b5b0a9b206d",
   "metadata": {},
   "outputs": [],
   "source": []
  },
  {
   "cell_type": "code",
   "execution_count": null,
   "id": "1f0b2788-90c2-4a9d-a038-bb35c618c01d",
   "metadata": {},
   "outputs": [],
   "source": []
  },
  {
   "cell_type": "markdown",
   "id": "908adb8b",
   "metadata": {},
   "source": [
    "4. Detalles importantes de la implementación"
   ]
  },
  {
   "cell_type": "markdown",
   "id": "3fbf9069",
   "metadata": {},
   "source": []
  }
 ],
 "metadata": {
  "kernelspec": {
   "display_name": "Python 3 (ipykernel)",
   "language": "python",
   "name": "python3"
  },
  "language_info": {
   "codemirror_mode": {
    "name": "ipython",
    "version": 3
   },
   "file_extension": ".py",
   "mimetype": "text/x-python",
   "name": "python",
   "nbconvert_exporter": "python",
   "pygments_lexer": "ipython3",
   "version": "3.11.7"
  }
 },
 "nbformat": 4,
 "nbformat_minor": 5
}
