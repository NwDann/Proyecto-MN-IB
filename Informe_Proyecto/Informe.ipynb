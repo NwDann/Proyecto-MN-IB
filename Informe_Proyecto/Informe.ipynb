{
 "cells": [
  {
   "cell_type": "code",
   "execution_count": null,
   "id": "1bd9ff46-b6a9-4ac2-b75e-3fa092c987e1",
   "metadata": {},
   "outputs": [],
   "source": [
    "---\n",
    "title: \"Informe Proyecto IB\"\n",
    "author: \"asd\"\n",
    "lang: es\n",
    "format: \n",
    "  pdf:\n",
    "    toc: true\n",
    "    toc-title: \"Tabla de Contenidos\"  \n",
    "execute:\n",
    "  echo: true\n",
    "  error: false\n",
    "  warning: false\n",
    "jupyter: python3\n",
    "---"
   ]
  },
  {
   "cell_type": "markdown",
   "id": "fc563a6b",
   "metadata": {},
   "source": [
    "1. Introducción"
   ]
  },
  {
   "cell_type": "code",
   "execution_count": null,
   "id": "76985e29-80c3-476c-adc0-7e9a4c56bb6f",
   "metadata": {},
   "outputs": [],
   "source": []
  },
  {
   "cell_type": "code",
   "execution_count": null,
   "id": "0d1e8767-27b5-44a5-a86d-a77bfe9b9587",
   "metadata": {},
   "outputs": [],
   "source": []
  },
  {
   "cell_type": "markdown",
   "id": "efa550b6",
   "metadata": {},
   "source": [
    "2. Desarrollo matemático"
   ]
  },
  {
   "cell_type": "markdown",
   "id": "da2a8c03",
   "metadata": {},
   "source": [
    "La función que permite resolver el problema planteado se da en base a la que se presenta a continuación:\n",
    "\n",
    "$f(x)=\\frac{(h\\times w)}{(x_2^2 - w ^2)^{0.5}}+\\frac{(h\\times w)}{(x_1^2 - w ^2)} - w$\n",
    "\n",
    "Donde:\n",
    "\n",
    "- $w$: La incognita a buscar, es decir, el tamaño del pasillo donde se encuentran las 2 escaleras.\n",
    "- $x_1$: La longitud de la primera escalera\n",
    "- $x_2$: La longitud de la segunda escalera\n",
    "- $h$: La altura desde el suelo hasta el punto de intersección entre las dos escaleras"
   ]
  },
  {
   "cell_type": "markdown",
   "id": "2d5b0164",
   "metadata": {},
   "source": [
    "3. Diagrama de flujo ó pseudocódigo"
   ]
  },
  {
   "cell_type": "code",
   "execution_count": null,
   "id": "5cd9198c-2c9a-446d-bee3-3b5b0a9b206d",
   "metadata": {},
   "outputs": [],
   "source": []
  },
  {
   "cell_type": "code",
   "execution_count": null,
   "id": "1f0b2788-90c2-4a9d-a038-bb35c618c01d",
   "metadata": {},
   "outputs": [],
   "source": []
  },
  {
   "cell_type": "markdown",
   "id": "908adb8b",
   "metadata": {},
   "source": [
    "4. Detalles importantes de la implementación"
   ]
  },
  {
   "cell_type": "markdown",
   "id": "3fbf9069",
   "metadata": {},
   "source": []
  }
 ],
 "metadata": {
  "kernelspec": {
   "display_name": "Python 3 (ipykernel)",
   "language": "python",
   "name": "python3"
  },
  "language_info": {
   "codemirror_mode": {
    "name": "ipython",
    "version": 3
   },
   "file_extension": ".py",
   "mimetype": "text/x-python",
   "name": "python",
   "nbconvert_exporter": "python",
   "pygments_lexer": "ipython3",
   "version": "3.11.7"
  }
 },
 "nbformat": 4,
 "nbformat_minor": 5
}
