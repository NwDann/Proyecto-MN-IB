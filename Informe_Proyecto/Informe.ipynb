{
 "cells": [
  {
   "cell_type": "code",
   "execution_count": null,
   "id": "1bd9ff46-b6a9-4ac2-b75e-3fa092c987e1",
   "metadata": {},
   "outputs": [],
   "source": [
    "---\n",
    "title: \"Informe Proyecto IB\"\n",
    "author: \"asd\"\n",
    "lang: es\n",
    "format: \n",
    "  pdf:\n",
    "    toc: true\n",
    "    toc-title: \"Tabla de Contenidos\"  \n",
    "execute:\n",
    "  echo: true\n",
    "  error: false\n",
    "  warning: false\n",
    "jupyter: python3\n",
    "---"
   ]
  },
  {
   "cell_type": "markdown",
   "id": "fc563a6b",
   "metadata": {},
   "source": [
    "1. Introducción"
   ]
  },
  {
   "cell_type": "markdown",
   "id": "dc6a9fb0",
   "metadata": {},
   "source": [
    "Este proyecto presenta una aplicación interactiva desarrollada en Python que permite calcular la intersección de dos escaleras de diferentes longitudes en un pasillo. Esta herramienta es especialmente útil en contextos de arquitectura y diseño de interiores, donde es crucial determinar la disposición óptima de elementos estructurales en espacios confinados.\n",
    "\n",
    "La aplicación emplea técnicas de análisis numérico y visualización gráfica, proporcionando una solución intuitiva y eficiente para un problema geométrico común. A través de una interfaz gráfica de usuario (GUI) desarrollada con `tkinter` y visualizaciones creadas con `matplotlib`, los usuarios pueden ingresar parámetros específicos y obtener resultados precisos sobre la configuración de las escaleras en el pasillo."
   ]
  },
  {
   "cell_type": "markdown",
   "id": "5076c40b",
   "metadata": {},
   "source": [
    "**Características Principales**\n",
    "\n",
    "1. **Interfaz de Usuario Intuitiva:** \n",
    "   - La GUI permite a los usuarios ingresar fácilmente las longitudes de las escaleras y la altura de intersección.\n",
    "   - La interfaz está diseñada para ser amigable y accesible, con estilos personalizados que mejoran la experiencia del usuario.\n",
    "\n",
    "2. **Cálculo de la Intersección:**\n",
    "   - Implementa un algoritmo de bisección para resolver la ecuación no lineal que describe el sistema.\n",
    "   - La ecuación considera las longitudes de las escaleras y la altura de intersección, proporcionando un cálculo preciso del ancho del pasillo.\n",
    "\n",
    "3. **Visualización Gráfica:**\n",
    "   - Utiliza `matplotlib` para graficar las escaleras y el punto de intersección.\n",
    "   - La visualización ayuda a los usuarios a comprender mejor la disposición espacial de las escaleras y el punto de intersección en el pasillo."
   ]
  },
  {
   "cell_type": "markdown",
   "id": "efa550b6",
   "metadata": {},
   "source": [
    "2. Desarrollo matemático"
   ]
  },
  {
   "cell_type": "markdown",
   "id": "da2a8c03",
   "metadata": {},
   "source": [
    "La función que permite resolver el problema planteado se da en base a la que se presenta a continuación:\n",
    "\n",
    "$f(x)=\\frac{(h\\times w)}{(x_2^2 - w ^2)^{0.5}}+\\frac{(h\\times w)}{(x_1^2 - w ^2)^{0.5}} - w$\n",
    "\n",
    "Donde:\n",
    "\n",
    "- $w$: La incognita a buscar, es decir, el tamaño del pasillo donde se encuentran las 2 escaleras.\n",
    "- $x_1$: La longitud de la primera escalera\n",
    "- $x_2$: La longitud de la segunda escalera\n",
    "- $h$: La altura desde el suelo hasta el punto de intersección entre las dos escaleras\n",
    "\n",
    "Para iniciar, se tiene presente la siguiente Figura, la cual representa visualmente en problema planteado, a su vez, declarando las incognitas necesarias para obtener la ecuación. Asi mismo sirve de guia para comprender el enunciado del problema.\n",
    "\n",
    "<p align=\"center\">\n",
    "  <img src=\"images/img1.png\" alt=\"Texto alternativo\" width=\"200\" height=\"265\">\n",
    "</p>\n",
    "\n",
    "A continuación, se establecen dos triangulos rectangulos, donde, la hipotenusa de cada uno es la longitud de cada escalera, esto permite trabajar de manera indivual con cada uno. Con lo cual es tiene lo siguiente: \n",
    "<p align=\"center\">\n",
    "  <img src=\"images/img2.png\" alt=\"Texto alternativo\" width=\"200\" height=\"265\">\n",
    "  <img src=\"images/img3_1.png\" alt=\"Texto alternativo\" width=\"200\" height=\"265\">\n",
    "</p>\n",
    "A partir de las anteriores figuras se puede comenzar a deducir la ecuación presentada al inicio.\n",
    "\n",
    "A destacar que dentro de cada uno de los triangulos, se presenta un triangulo semejante, esto dado que posee los 3 angulos iguales que el que los contiene, asi se deduce lo siguiente en base a funciones trigonométricas.\n",
    "\n",
    "Primero a destacar que: \n",
    "\n",
    "$w = l + l'$ (1)\n",
    "\n",
    "Definimos $\\theta_1$ como el angulo entre $w$ y $x_2$\n",
    "\n",
    "$\\tan{\\theta_1} = \\frac{h}{l}$\n",
    "\n",
    "$l = \\frac{h}{\\tan{\\theta_1}}$ (2)\n",
    "\n",
    "Definimos $\\theta_2$ como el angulo entre $w$ y $x_1$\n",
    "\n",
    "$\\tan{\\theta_2} = \\frac{h}{l'}$\n",
    "\n",
    "$l' = \\frac{h}{\\tan{\\theta_2}}$ (3)\n",
    "\n",
    "Mediante el teorema de Pitágoras se describe.\n",
    "\n",
    "$Z = \\sqrt{x_1^2-w^2}$ (4)\n",
    "\n",
    "$Y = \\sqrt{x_2^2-w^2}$ (5)\n",
    "\n",
    "$\\tan{\\theta_1} = \\frac{Y}{w}$ (6)\n",
    "\n",
    "$\\tan{\\theta_2} = \\frac{Z}{w}$ (7)\n",
    "\n",
    "Ahora, reemplazamos 4 en 7 y 5 en 6\n",
    "\n",
    "$\\tan{\\theta_1} = \\frac{\\sqrt{x_2^2-w^2}}{w}$ (8)\n",
    "\n",
    "$\\tan{\\theta_2} = \\frac{\\sqrt{x_1^2-w^2}}{w}$ (9)\n",
    "\n",
    "Luego, se reemplaza 9 en 2 y 8 en 3\n",
    "\n",
    "$l = \\frac{h}{\\frac{\\sqrt{x_2^2-w^2}}{w}}$\n",
    "\n",
    "$l = \\frac{h\\times w}{\\sqrt{x_2^2-w^2}}$ (10)\n",
    "\n",
    "$l' = \\frac{h}{\\frac{\\sqrt{x_1^2-w^2}}{w}}$\n",
    "\n",
    "$l' = \\frac{h\\times w}{\\sqrt{x_1^2-w^2}}$ (11)\n",
    "\n",
    "Finalmente se reemplaza 10 y 11 en 1\n",
    "\n",
    "$w = \\frac{h\\times w}{\\sqrt{x_2^2-w^2}} + \\frac{h\\times w}{\\sqrt{x_1^2-w^2}}$"
   ]
  },
  {
   "cell_type": "markdown",
   "id": "2d5b0164",
   "metadata": {},
   "source": [
    "3. Diagrama de flujo ó pseudocódigo"
   ]
  },
  {
   "cell_type": "markdown",
   "id": "bb0f6c68",
   "metadata": {},
   "source": [
    "El pseudocódigo describe el proceso matemático utilizado para calcular la intersección de dos escaleras en un pasillo:"
   ]
  },
  {
   "cell_type": "markdown",
   "id": "f4c3897b",
   "metadata": {},
   "source": [
    "```\n",
    "Inicio del Seudocódigo:\n",
    "\n",
    "Procedimiento CalcularInterseccionEscaleras():\n",
    "    // Procedimiento principal para calcular la intersección de las escaleras\n",
    "    \n",
    "    // Paso 1: Obtener las longitudes de las escaleras (x1 y x2) y la altura (h)\n",
    "    Leer x1\n",
    "    Leer x2\n",
    "    Leer h\n",
    "    \n",
    "    // Paso 2: Definir la función de la ecuación a resolver\n",
    "    Función Ecuacion(w):\n",
    "        // Ecuación que representa la condición de intersección de las escaleras\n",
    "        raiz_x1 = raizCuadrada(x1^2 - w^2)\n",
    "        raiz_x2 = raizCuadrada(x2^2 - w^2)\n",
    "        regresar (h * w) / raiz_x2 + (h * w) / raiz_x1 - w\n",
    "    \n",
    "    // Paso 3: Definir el intervalo inicial [a, b] para el método de bisección\n",
    "    a = 0.01\n",
    "    b = mínimo(x1, x2) - 0.01\n",
    "    \n",
    "    // Paso 4: Aplicar el método de bisección para encontrar la raíz de la ecuación\n",
    "    Intentar:\n",
    "        resultado = Bisección(Ecuacion, a, b)\n",
    "        Mostrar \"El valor en metros de la distancia o ancho del pasillo es:\", resultado\n",
    "    Excepto Error como e:\n",
    "        Mostrar \"Error al calcular la raíz:\", e\n",
    "\n",
    "Función Bisección(ecuacion, a, b):\n",
    "    // Función que implementa el método de bisección para encontrar la raíz de una ecuación\n",
    "    \n",
    "    Mientras abs(b - a) > tolerancia:\n",
    "        c = (a + b) / 2\n",
    "        Si ecuacion(c) es aproximadamente igual a 0:\n",
    "            regresar c\n",
    "        Si no, Si ecuacion(a) * ecuacion(c) < 0:\n",
    "            b = c\n",
    "        Si no:\n",
    "            a = c\n",
    "    regresar (a + b) / 2\n",
    "\n",
    "Función raizCuadrada(x):\n",
    "    // Función auxiliar para calcular la raíz cuadrada de un número x\n",
    "    // Implementación adecuada para manejar casos donde x < 0 si es necesario\n",
    "    regresar raíz_cuadrada_de_x\n",
    "\n",
    "Fin del seudocódigo\n",
    "```"
   ]
  },
  {
   "cell_type": "markdown",
   "id": "f61756bd",
   "metadata": {},
   "source": [
    "**Explicación del seudocódigo:**\n",
    "\n",
    "1. **Procedimiento `CalcularInterseccionEscaleras()`:**\n",
    "   - Este procedimiento inicia el cálculo de la intersección de las escaleras.\n",
    "   - Lee las longitudes de las escaleras \\( x1 \\) y \\( x2 \\) así como la altura \\( h \\).\n",
    "   - Define la función `Ecuacion(w)` que representa la ecuación matemática que describe la intersección de las escaleras.\n",
    "   - Define un intervalo inicial [a, b] y utiliza el método de bisección para encontrar la raíz de la ecuación `Ecuacion`.\n",
    "\n",
    "2. **Función `Bisección(ecuacion, a, b)`:**\n",
    "   - Implementa el método de bisección para encontrar la raíz de una función `ecuacion` en el intervalo [a, b].\n",
    "   - Divide iterativamente el intervalo en dos partes hasta que la diferencia entre `a` y `b` sea menor que una tolerancia predefinida.\n",
    "   - Utiliza el teorema del valor intermedio para decidir en qué parte del intervalo se encuentra la raíz.\n",
    "\n",
    "3. **Función `raizCuadrada(x)`:**\n",
    "   - Función auxiliar para calcular la raíz cuadrada de un número \\( x \\).\n",
    "   - Debe estar implementada de manera que maneje correctamente casos donde \\( x \\) pueda ser negativo, dependiendo de la implementación específica.\n",
    "\n",
    "Este seudocódigo describe el proceso matemático esencial utilizado para resolver el problema de la intersección de las escaleras en un pasillo, utilizando el método de bisección para encontrar la solución numérica."
   ]
  },
  {
   "cell_type": "markdown",
   "id": "908adb8b",
   "metadata": {},
   "source": [
    "4. Detalles importantes de la implementación"
   ]
  },
  {
   "cell_type": "markdown",
   "id": "3fbf9069",
   "metadata": {},
   "source": []
  }
 ],
 "metadata": {
  "kernelspec": {
   "display_name": "Python 3 (ipykernel)",
   "language": "python",
   "name": "python3"
  },
  "language_info": {
   "codemirror_mode": {
    "name": "ipython",
    "version": 3
   },
   "file_extension": ".py",
   "mimetype": "text/x-python",
   "name": "python",
   "nbconvert_exporter": "python",
   "pygments_lexer": "ipython3",
   "version": "3.11.7"
  }
 },
 "nbformat": 4,
 "nbformat_minor": 5
}
